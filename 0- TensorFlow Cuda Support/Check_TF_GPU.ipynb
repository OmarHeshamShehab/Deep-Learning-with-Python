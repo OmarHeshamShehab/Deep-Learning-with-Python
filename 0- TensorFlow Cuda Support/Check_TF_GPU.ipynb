{
 "cells": [
  {
   "cell_type": "code",
   "execution_count": 2,
   "metadata": {},
   "outputs": [
    {
     "name": "stdout",
     "output_type": "stream",
     "text": [
      "Python Version : 3.11.9 (main, Apr 19 2024, 16:48:06) [GCC 11.2.0]\n",
      "TF Version : 2.17.0\n",
      "GPUs : [PhysicalDevice(name='/physical_device:GPU:0', device_type='GPU')]\n"
     ]
    }
   ],
   "source": [
    "import tensorflow as tf\n",
    "import sys\n",
    "\n",
    "\n",
    "def check_gpu_resources() -> None:\n",
    "    print(f\"GPUs : {tf.config.list_physical_devices('GPU')}\")\n",
    "\n",
    "\n",
    "def check_tensorflow_resources() -> None:\n",
    "    print(f\"TF Version : {tf.__version__}\")\n",
    "\n",
    "\n",
    "def check_python_version() -> None:\n",
    "    print(f\"Python Version : {sys.version}\")\n",
    "\n",
    "\n",
    "if __name__ == \"__main__\":\n",
    "    check_python_version()\n",
    "    check_tensorflow_resources()\n",
    "    check_gpu_resources()"
   ]
  }
 ],
 "metadata": {
  "kernelspec": {
   "display_name": ".conda",
   "language": "python",
   "name": "python3"
  },
  "language_info": {
   "codemirror_mode": {
    "name": "ipython",
    "version": 3
   },
   "file_extension": ".py",
   "mimetype": "text/x-python",
   "name": "python",
   "nbconvert_exporter": "python",
   "pygments_lexer": "ipython3",
   "version": "3.11.9"
  }
 },
 "nbformat": 4,
 "nbformat_minor": 2
}
